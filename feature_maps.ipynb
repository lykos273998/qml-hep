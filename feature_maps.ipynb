{
 "cells": [
  {
   "cell_type": "code",
   "execution_count": 26,
   "metadata": {},
   "outputs": [],
   "source": [
    "import matplotlib.pyplot as plt\n",
    "import numpy as np\n",
    "\n",
    "from qiskit.circuit.library import PauliFeatureMap, ZFeatureMap, ZZFeatureMap\n"
   ]
  },
  {
   "cell_type": "code",
   "execution_count": 49,
   "metadata": {},
   "outputs": [
    {
     "name": "stdout",
     "output_type": "stream",
     "text": [
      "     ┌───┐┌──────────────┐                                           \n",
      "q_0: ┤ H ├┤ U1(2.0*x[0]) ├──■─────────────────────────────────────■──\n",
      "     ├───┤├──────────────┤┌─┴─┐┌───────────────────────────────┐┌─┴─┐\n",
      "q_1: ┤ H ├┤ U1(2.0*x[1]) ├┤ X ├┤ U1(2.0*(π - x[0])*(π - x[1])) ├┤ X ├\n",
      "     └───┘└──────────────┘└───┘└───────────────────────────────┘└───┘\n"
     ]
    }
   ],
   "source": [
    "p = PauliFeatureMap(2, reps=1, paulis = ['Z','ZZ'])\n",
    "print(p)"
   ]
  },
  {
   "cell_type": "code",
   "execution_count": 28,
   "metadata": {},
   "outputs": [
    {
     "name": "stdout",
     "output_type": "stream",
     "text": [
      "     ┌───┐┌──────────────┐\n",
      "q_0: ┤ H ├┤ U1(2.0*x[0]) ├\n",
      "     ├───┤├──────────────┤\n",
      "q_1: ┤ H ├┤ U1(2.0*x[1]) ├\n",
      "     └───┘└──────────────┘\n"
     ]
    }
   ],
   "source": [
    "p = ZFeatureMap(2, reps=1)\n",
    "print(p)"
   ]
  },
  {
   "cell_type": "code",
   "execution_count": 29,
   "metadata": {},
   "outputs": [
    {
     "name": "stdout",
     "output_type": "stream",
     "text": [
      "     ┌───┐┌──────────────┐                                           \n",
      "q_0: ┤ H ├┤ U1(2.0*x[0]) ├──■─────────────────────────────────────■──\n",
      "     ├───┤├──────────────┤┌─┴─┐┌───────────────────────────────┐┌─┴─┐\n",
      "q_1: ┤ H ├┤ U1(2.0*x[1]) ├┤ X ├┤ U1(2.0*(π - x[0])*(π - x[1])) ├┤ X ├\n",
      "     └───┘└──────────────┘└───┘└───────────────────────────────┘└───┘\n"
     ]
    }
   ],
   "source": [
    "p = ZZFeatureMap(2, reps=1)\n",
    "print(p)"
   ]
  },
  {
   "cell_type": "code",
   "execution_count": 47,
   "metadata": {},
   "outputs": [],
   "source": [
    "pauli_z = np.array([[1,0],[0,-1]])\n",
    "cnot = np.array(\n",
    "    [[1,0,0,0],\n",
    "    [0,1,0,0],\n",
    "    [0,0,0,1],\n",
    "    [0,0,1,0]]\n",
    ")\n",
    "\n",
    "U = cnot = np.array(\n",
    "    [[1,0,0,0],\n",
    "    [0,5,0,0],\n",
    "    [0,0,1,0],\n",
    "    [0,0,0,1]]\n",
    ")\n"
   ]
  },
  {
   "cell_type": "code",
   "execution_count": 48,
   "metadata": {},
   "outputs": [
    {
     "data": {
      "text/plain": [
       "array([[  1,   0,   0,   0],\n",
       "       [  0, 125,   0,   0],\n",
       "       [  0,   0,   1,   0],\n",
       "       [  0,   0,   0,   1]])"
      ]
     },
     "execution_count": 48,
     "metadata": {},
     "output_type": "execute_result"
    }
   ],
   "source": [
    "np.dot(cnot,(np.dot(U,cnot)))"
   ]
  },
  {
   "cell_type": "code",
   "execution_count": 53,
   "metadata": {},
   "outputs": [],
   "source": [
    "from qiskit.circuit import *"
   ]
  },
  {
   "cell_type": "code",
   "execution_count": 61,
   "metadata": {},
   "outputs": [
    {
     "data": {
      "image/png": "[encoded data removed]",
      "text/plain": [
       "<Figure size 267.052x144.48 with 1 Axes>"
      ]
     },
     "execution_count": 61,
     "metadata": {},
     "output_type": "execute_result"
    }
   ],
   "source": [
    "qc = QuantumCircuit(2)\n",
    "\"\"\"\n",
    "qc.h(0)\n",
    "qc.h(1)\n",
    "\n",
    "qc.u1(1,0)\n",
    "qc.u1(2,1)\n",
    "\"\"\"\n",
    "qc.cnot(0,1)\n",
    "\n",
    "qc.u1(12,1)\n",
    "\n",
    "qc.cnot(0,1)\n",
    "\n",
    "qc.draw('mpl')\n"
   ]
  },
  {
   "cell_type": "code",
   "execution_count": 62,
   "metadata": {},
   "outputs": [],
   "source": [
    "import qiskit.quantum_info as qi\n",
    "\n",
    "op = qi.Operator(qc)"
   ]
  },
  {
   "cell_type": "code",
   "execution_count": 65,
   "metadata": {},
   "outputs": [
    {
     "data": {
      "text/plain": [
       "Operator([[1.        +0.j        , 0.        +0.j        ,\n",
       "           0.        +0.j        , 0.        +0.j        ],\n",
       "          [0.        +0.j        , 0.84385396-0.53657292j,\n",
       "           0.        +0.j        , 0.        +0.j        ],\n",
       "          [0.        +0.j        , 0.        +0.j        ,\n",
       "           0.84385396-0.53657292j, 0.        +0.j        ],\n",
       "          [0.        +0.j        , 0.        +0.j        ,\n",
       "           0.        +0.j        , 1.        +0.j        ]],\n",
       "         input_dims=(2, 2), output_dims=(2, 2))"
      ]
     },
     "execution_count": 65,
     "metadata": {},
     "output_type": "execute_result"
    }
   ],
   "source": [
    "op"
   ]
  },
  {
   "cell_type": "code",
   "execution_count": null,
   "metadata": {},
   "outputs": [],
   "source": []
  }
 ],
 "metadata": {
  "interpreter": {
   "hash": "31f2aee4e71d21fbe5cf8b01ff0e069b9275f58929596ceb00d14d90e3e16cd6"
  },
  "kernelspec": {
   "display_name": "Python 3.9.7 64-bit",
   "language": "python",
   "name": "python3"
  },
  "language_info": {
   "codemirror_mode": {
    "name": "ipython",
    "version": 3
   },
   "file_extension": ".py",
   "mimetype": "text/x-python",
   "name": "python",
   "nbconvert_exporter": "python",
   "pygments_lexer": "ipython3",
   "version": "3.9.7"
  },
  "orig_nbformat": 4
 },
 "nbformat": 4,
 "nbformat_minor": 2
}
