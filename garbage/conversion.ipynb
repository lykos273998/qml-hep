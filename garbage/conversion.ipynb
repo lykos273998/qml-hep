{
 "cells": [
  {
   "cell_type": "code",
   "execution_count": 1,
   "metadata": {},
   "outputs": [],
   "source": [
    "import numpy as np\n",
    "\n",
    "bkg = np.load('../data/x_data_bkg.npy')\n",
    "label_sig = np.zeros((np.shape(bkg)[0],1))\n",
    "bkg = np.append(bkg,label_sig,axis=1)"
   ]
  },
  {
   "cell_type": "code",
   "execution_count": 3,
   "metadata": {},
   "outputs": [],
   "source": [
    "sig = np.load('../data/x_data_sig.npy')\n",
    "label_sig = np.ones((np.shape(sig)[0],1))\n",
    "sig = np.append(sig,label_sig,axis=1)"
   ]
  },
  {
   "cell_type": "code",
   "execution_count": 4,
   "metadata": {},
   "outputs": [],
   "source": [
    "data = np.append(bkg[:500000],sig[:500000],axis=0)\n",
    "\n",
    "from sklearn.utils import shuffle\n",
    "\n",
    "data = shuffle(data)\n"
   ]
  },
  {
   "cell_type": "code",
   "execution_count": 6,
   "metadata": {},
   "outputs": [],
   "source": [
    "np.save('../data/x_data_not_normalized.npy',data)"
   ]
  },
  {
   "cell_type": "code",
   "execution_count": 9,
   "metadata": {},
   "outputs": [],
   "source": [
    "for i in range(np.shape(data)[1] - 1):\n",
    "    minimo = np.min(data[:,i])\n",
    "    massimo = np.max(data[:,i])\n",
    "\n",
    "    data[:,i] = -1 + 2*(data[:,i] - minimo)/(massimo - minimo)"
   ]
  },
  {
   "cell_type": "code",
   "execution_count": 10,
   "metadata": {},
   "outputs": [],
   "source": [
    "np.save('../data/x_data_normalized.npy',data)"
   ]
  },
  {
   "cell_type": "code",
   "execution_count": 15,
   "metadata": {},
   "outputs": [
    {
     "data": {
      "text/plain": [
       "(array([ 32025.,  65795., 103974., 140062., 159260., 159804., 138791.,\n",
       "        103197.,  64982.,  32110.]),\n",
       " array([-1. , -0.8, -0.6, -0.4, -0.2,  0. ,  0.2,  0.4,  0.6,  0.8,  1. ]),\n",
       " <BarContainer object of 10 artists>)"
      ]
     },
     "execution_count": 15,
     "metadata": {},
     "output_type": "execute_result"
    },
    {
     "data": {
      "image/png": "[encoded data removed]",
      "text/plain": [
       "<Figure size 432x288 with 1 Axes>"
      ]
     },
     "metadata": {
      "needs_background": "light"
     },
     "output_type": "display_data"
    }
   ],
   "source": [
    "import matplotlib.pyplot as plt\n",
    "plt.hist(data[:,1])"
   ]
  },
  {
   "cell_type": "code",
   "execution_count": 1,
   "metadata": {},
   "outputs": [],
   "source": [
    "import numpy as np\n",
    "from sklearn.metrics import roc_curve, roc_auc_score\n"
   ]
  },
  {
   "cell_type": "code",
   "execution_count": 3,
   "metadata": {},
   "outputs": [],
   "source": [
    "data = np.load('../../data/x_data_normalized.npy')"
   ]
  },
  {
   "cell_type": "code",
   "execution_count": 4,
   "metadata": {},
   "outputs": [],
   "source": [
    "x = data[:,:-1]\n",
    "y = data[:,-1]"
   ]
  },
  {
   "cell_type": "code",
   "execution_count": 6,
   "metadata": {},
   "outputs": [
    {
     "name": "stdout",
     "output_type": "stream",
     "text": [
      "feature 0 auc_score = 0.6193659971699998\n",
      "feature 1 auc_score = 0.50044365327\n",
      "feature 2 auc_score = 0.5011251255840001\n",
      "feature 3 auc_score = 0.577631024526\n",
      "feature 4 auc_score = 0.5011577642079998\n",
      "feature 5 auc_score = 0.501006582342\n",
      "feature 6 auc_score = 0.5001724440159999\n",
      "feature 7 auc_score = 0.504995\n",
      "feature 8 auc_score = 0.6248527757240001\n",
      "feature 9 auc_score = 0.5011525028019999\n",
      "feature 10 auc_score = 0.500168410738\n",
      "feature 11 auc_score = 0.575161923274\n",
      "feature 12 auc_score = 0.500213190942\n",
      "feature 13 auc_score = 0.5002613555919999\n",
      "feature 14 auc_score = 0.500933114088\n",
      "feature 15 auc_score = 0.525725\n",
      "feature 16 auc_score = 0.6371043653199999\n",
      "feature 17 auc_score = 0.5010807713380001\n",
      "feature 18 auc_score = 0.5003084196380001\n",
      "feature 19 auc_score = 0.5749223019680001\n",
      "feature 20 auc_score = 0.500006590868\n",
      "feature 21 auc_score = 0.50061000034\n",
      "feature 22 auc_score = 0.5011311424320001\n",
      "feature 23 auc_score = 0.536203\n",
      "feature 24 auc_score = 0.642197553226\n",
      "feature 25 auc_score = 0.5011401427680001\n",
      "feature 26 auc_score = 0.5007377108639999\n",
      "feature 27 auc_score = 0.571289586878\n",
      "feature 28 auc_score = 0.5007380620699999\n",
      "feature 29 auc_score = 0.5006237984540001\n",
      "feature 30 auc_score = 0.5010550417040001\n",
      "feature 31 auc_score = 0.5333880000000001\n",
      "feature 32 auc_score = 0.646214347886\n",
      "feature 33 auc_score = 0.50014783154\n",
      "feature 34 auc_score = 0.500929542312\n",
      "feature 35 auc_score = 0.5689586199960001\n",
      "feature 36 auc_score = 0.50034447758\n",
      "feature 37 auc_score = 0.500920502172\n",
      "feature 38 auc_score = 0.500060555378\n",
      "feature 39 auc_score = 0.539722\n",
      "feature 40 auc_score = 0.6399003697899999\n",
      "feature 41 auc_score = 0.500987522216\n",
      "feature 42 auc_score = 0.50095700392\n",
      "feature 43 auc_score = 0.5738256798279999\n",
      "feature 44 auc_score = 0.5000623460920002\n",
      "feature 45 auc_score = 0.5005960082719999\n",
      "feature 46 auc_score = 0.500888871342\n",
      "feature 47 auc_score = 0.5444760000000001\n",
      "feature 48 auc_score = 0.616989140352\n",
      "feature 49 auc_score = 0.5008811633799999\n",
      "feature 50 auc_score = 0.5006805505799999\n",
      "feature 51 auc_score = 0.5770926737839999\n",
      "feature 52 auc_score = 0.5007424447199998\n",
      "feature 53 auc_score = 0.5000911168059999\n",
      "feature 54 auc_score = 0.5008478374520001\n",
      "feature 55 auc_score = 0.5359060000000001\n",
      "feature 56 auc_score = 0.5007442370980001\n",
      "feature 57 auc_score = 0.5658808073999999\n",
      "feature 58 auc_score = 0.501062049892\n",
      "feature 59 auc_score = 0.5010889917899999\n",
      "feature 60 auc_score = 0.5388224013260001\n",
      "feature 61 auc_score = 0.500710385668\n",
      "feature 62 auc_score = 0.5000136366800001\n",
      "feature 63 auc_score = 0.5321872201319999\n",
      "feature 64 auc_score = 0.5020725821619999\n",
      "feature 65 auc_score = 0.500350275624\n",
      "feature 66 auc_score = 0.500791165028\n"
     ]
    }
   ],
   "source": [
    "d = []\n",
    "for i in range(len(x[0,:])):\n",
    "    col = x[:,i]*0.5 + 1\n",
    "    score = roc_auc_score(y,col)\n",
    "    score = max(score,1-score)\n",
    "    d.append([i,score])\n",
    "    print(f\"feature {i} auc_score = {score}\")"
   ]
  },
  {
   "cell_type": "code",
   "execution_count": 16,
   "metadata": {},
   "outputs": [
    {
     "name": "stdout",
     "output_type": "stream",
     "text": [
      "feature 0 auc_score = 0.5295692952119999\n",
      "feature 1 auc_score = 0.5152447659\n",
      "feature 2 auc_score = 0.5209084939159998\n",
      "feature 3 auc_score = 0.5164351636519999\n",
      "feature 4 auc_score = 0.5022137415959999\n",
      "feature 5 auc_score = 0.45770779711200016\n",
      "feature 6 auc_score = 0.4977487392880002\n",
      "feature 7 auc_score = 0.4969883893920001\n",
      "feature 8 auc_score = 0.6451995706039999\n",
      "feature 9 auc_score = 0.500441281144\n",
      "feature 10 auc_score = 0.501387231668\n",
      "feature 11 auc_score = 0.4993200599039999\n",
      "feature 12 auc_score = 0.5000586843239999\n",
      "feature 13 auc_score = 0.49955073901200014\n",
      "feature 14 auc_score = 0.499004462484\n",
      "feature 15 auc_score = 0.49929239432400013\n"
     ]
    }
   ],
   "source": [
    "from sklearn.decomposition import PCA\n",
    "\n",
    "transformer = PCA(n_components=16)\n",
    "x_tf = transformer.fit_transform(x)\n",
    "d2 = []\n",
    "for i in range(len(x_tf[0,:])):\n",
    "    col = x_tf[:,i]*0.5 + 1\n",
    "    score = roc_auc_score(y,col)\n",
    "    d2.append([i,score])\n",
    "    print(f\"feature {i} auc_score = {score}\")\n"
   ]
  },
  {
   "cell_type": "code",
   "execution_count": 31,
   "metadata": {},
   "outputs": [],
   "source": [
    "from operator import itemgetter\n",
    "sd = sorted(d, key = itemgetter(1), reverse = True)"
   ]
  },
  {
   "cell_type": "code",
   "execution_count": 34,
   "metadata": {},
   "outputs": [],
   "source": [
    "features=[r[0] for r in sd[:16]]"
   ]
  },
  {
   "cell_type": "code",
   "execution_count": 39,
   "metadata": {},
   "outputs": [
    {
     "name": "stdout",
     "output_type": "stream",
     "text": [
      "[32, 24, 40, 16, 8, 0, 48, 3, 51, 11, 19, 43, 27, 35, 57, 47]\n"
     ]
    }
   ],
   "source": [
    "print(features )"
   ]
  },
  {
   "cell_type": "code",
   "execution_count": 37,
   "metadata": {},
   "outputs": [
    {
     "data": {
      "text/plain": [
       "(1000000, 16)"
      ]
     },
     "execution_count": 37,
     "metadata": {},
     "output_type": "execute_result"
    }
   ],
   "source": [
    "np.shape(x[:,features])"
   ]
  },
  {
   "cell_type": "code",
   "execution_count": null,
   "metadata": {},
   "outputs": [],
   "source": []
  }
 ],
 "metadata": {
  "interpreter": {
   "hash": "31f2aee4e71d21fbe5cf8b01ff0e069b9275f58929596ceb00d14d90e3e16cd6"
  },
  "kernelspec": {
   "display_name": "Python 3.9.7 64-bit",
   "language": "python",
   "name": "python3"
  },
  "language_info": {
   "codemirror_mode": {
    "name": "ipython",
    "version": 3
   },
   "file_extension": ".py",
   "mimetype": "text/x-python",
   "name": "python",
   "nbconvert_exporter": "python",
   "pygments_lexer": "ipython3",
   "version": "3.9.7"
  },
  "orig_nbformat": 4
 },
 "nbformat": 4,
 "nbformat_minor": 2
}
